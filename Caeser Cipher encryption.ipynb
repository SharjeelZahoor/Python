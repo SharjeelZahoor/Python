{
  "cells": [
    {
      "cell_type": "markdown",
      "metadata": {
        "id": "view-in-github",
        "colab_type": "text"
      },
      "source": [
        "<a href=\"https://colab.research.google.com/github/SharjeelZahoor/Python/blob/main/Caeser%20Cipher%20encryption.ipynb\" target=\"_parent\"><img src=\"https://colab.research.google.com/assets/colab-badge.svg\" alt=\"Open In Colab\"/></a>"
      ]
    },
    {
      "cell_type": "markdown",
      "source": [
        "𝐈𝐦𝐩𝐥𝐞𝐦𝐞𝐧𝐭𝐢𝐧𝐠 𝐂𝐚𝐞𝐬𝐚𝐫 𝐂𝐢𝐩𝐡𝐞𝐫 🔒"
      ],
      "metadata": {
        "id": "waiaF75U4Y6D"
      }
    },
    {
      "cell_type": "markdown",
      "metadata": {
        "id": "Rg6KTk2ZisJ_"
      },
      "source": [
        "\n",
        "Tackled an intriguing cryptography problem—implementing Caesar Cipher! Caesar Cipher is a classic encryption technique where each letter in the plaintext is shifted by a fixed number of positions in the alphabet. For example, with a shift of 2, 'a' becomes 'c', and 'z' wraps around to 'b'.\n",
        "Here's a quick breakdown of the solution:\n",
        "Understanding the Cipher: Each letter is shifted by a given number, rotating back to the start of the alphabet when necessary.\n",
        "Preserving Non-Alphabet Characters: Symbols and non-letter characters remain unchanged.\n",
        "Python Implementation: The function efficiently handles letter rotation and encryption, ensuring that uppercase and lowercase letters are processed correctly.\n",
        "𝑭𝒐𝒓 𝒆𝒙𝒂𝒎𝒑𝒍𝒆, 𝒔𝒉𝒊𝒇𝒕𝒊𝒏𝒈 \"𝒎𝒊𝒅𝒅𝒍𝒆-𝑶𝒖𝒕𝒛\" 𝒃𝒚 2 𝒓𝒆𝒔𝒖𝒍𝒕𝒔 𝒊𝒏 \"𝒐𝒌𝒇𝒇𝒏𝒈-𝑸𝒘𝒗𝒃\". 𝑻𝒉𝒊𝒔 𝒆𝒙𝒆𝒓𝒄𝒊𝒔𝒆 𝒘𝒂𝒔 𝒂 𝒈𝒓𝒆𝒂𝒕 𝒘𝒂𝒚 𝒕𝒐 𝒅𝒊𝒗𝒆 𝒅𝒆𝒆𝒑𝒆𝒓 𝒊𝒏𝒕𝒐 𝒔𝒕𝒓𝒊𝒏𝒈 𝒎𝒂𝒏𝒊𝒑𝒖𝒍𝒂𝒕𝒊𝒐𝒏 𝒂𝒏𝒅 𝒆𝒏𝒄𝒓𝒚𝒑𝒕𝒊𝒐𝒏 𝒕𝒆𝒄𝒉𝒏𝒊𝒒𝒖𝒆𝒔."
      ]
    },
    {
      "cell_type": "code",
      "execution_count": 19,
      "metadata": {
        "colab": {
          "base_uri": "https://localhost:8080/",
          "height": 35
        },
        "id": "QaGvz-5FFyt7",
        "outputId": "acc7e75c-5b76-4e36-b010-c617eb7706d5"
      },
      "outputs": [
        {
          "output_type": "execute_result",
          "data": {
            "text/plain": [
              "'Lipps_Asvph!'"
            ],
            "application/vnd.google.colaboratory.intrinsic+json": {
              "type": "string"
            }
          },
          "metadata": {},
          "execution_count": 19
        }
      ],
      "source": [
        "def caesarCipher(s, k):\n",
        "    # Write your code here\n",
        "    alpha = \"abcdefghijklmnopqrstuvwxyz\"\n",
        "    big_alpha = \"ABCDEFGHIJKLMNOPQRSTUVWXYZ\"\n",
        "    reverse = alpha\n",
        "    big_reverse = big_alpha\n",
        "\n",
        "    b = k\n",
        "    # rotating small alphabets\n",
        "    while k > 0:\n",
        "        reverse = reverse[1:] + reverse[0]\n",
        "        k -= 1\n",
        "\n",
        "    # rotating large alphabets\n",
        "    while b > 0:\n",
        "        big_reverse = big_reverse[1:] + big_reverse[0]\n",
        "        b -= 1\n",
        "\n",
        "    # computing result\n",
        "    result = \"\"\n",
        "\n",
        "    for char in range(len(s)):\n",
        "        if s[char] in \"-!_#$%@^&*(),.\":\n",
        "            result = result + s[char]\n",
        "        for i in range(len(reverse)):\n",
        "            if s[char] == alpha[i]:\n",
        "                result = result + reverse[i]\n",
        "            if s[char] == big_alpha[i]:\n",
        "                result = result + big_reverse[i]\n",
        "\n",
        "    #returning value after encryption\n",
        "    return result\n",
        "\n",
        "# Lipps_Asvph!\n",
        "s = \"Hello_World!\"\n",
        "k = 4\n",
        "caesarCipher(s, k)\n"
      ]
    }
  ],
  "metadata": {
    "colab": {
      "provenance": [],
      "authorship_tag": "ABX9TyPe7vL1+5Nb9IPRO3bC+yY2",
      "include_colab_link": true
    },
    "kernelspec": {
      "display_name": "Python 3",
      "name": "python3"
    },
    "language_info": {
      "name": "python"
    }
  },
  "nbformat": 4,
  "nbformat_minor": 0
}