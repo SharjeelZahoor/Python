{
  "nbformat": 4,
  "nbformat_minor": 0,
  "metadata": {
    "colab": {
      "provenance": [],
      "authorship_tag": "ABX9TyNvthEoWNBEmZvTtHIYAncp",
      "include_colab_link": true
    },
    "kernelspec": {
      "name": "python3",
      "display_name": "Python 3"
    },
    "language_info": {
      "name": "python"
    }
  },
  "cells": [
    {
      "cell_type": "markdown",
      "metadata": {
        "id": "view-in-github",
        "colab_type": "text"
      },
      "source": [
        "<a href=\"https://colab.research.google.com/github/SharjeelZahoor/Python/blob/main/linkedlist.ipynb\" target=\"_parent\"><img src=\"https://colab.research.google.com/assets/colab-badge.svg\" alt=\"Open In Colab\"/></a>"
      ]
    },
    {
      "cell_type": "markdown",
      "source": [
        "linked list is Dynamicaly saved in memory\n"
      ],
      "metadata": {
        "id": "3uhHI1gMQn4G"
      }
    },
    {
      "cell_type": "markdown",
      "source": [
        "Adding data in linkedlist and print data."
      ],
      "metadata": {
        "id": "zz0AwilKnWRM"
      }
    },
    {
      "cell_type": "code",
      "source": [
        "class Node:\n",
        "  def __init__(self,data):\n",
        "    self.data = data\n",
        "    self.next = None\n",
        "\n",
        "class LinkedList:\n",
        "\n",
        "  def __init__(self):\n",
        "    self.head = None\n",
        "\n",
        "  def insertAtBeginning(self, new_data):\n",
        "    self.new_data = new_data\n",
        "    new_node = Node(self.new_data)\n",
        "    new_node.next = self.head\n",
        "    self.head = new_node\n",
        "\n",
        "  def printList(self):\n",
        "    current = self.head\n",
        "    while current:\n",
        "      print(current.data, end = \" \")\n",
        "      current = current.next\n",
        "    print()\n",
        "\n",
        "\n",
        "if __name__ := \"__main__\":\n",
        "\n",
        "  list1 = LinkedList()\n",
        "  list1.insertAtBeginning(\"Fox\")\n",
        "  list1.insertAtBeginning(\"brown\")\n",
        "  list1.insertAtBeginning(\"quick\")\n",
        "  list1.insertAtBeginning(\"the\")\n",
        "\n",
        "  #printing list\n",
        "  list1.printList()\n",
        "\n",
        "\n",
        "\n",
        ""
      ],
      "metadata": {
        "id": "GHgulx8yQskP",
        "colab": {
          "base_uri": "https://localhost:8080/"
        },
        "outputId": "b3851417-64c3-4f9c-a535-a5627618d918"
      },
      "execution_count": 7,
      "outputs": [
        {
          "output_type": "stream",
          "name": "stdout",
          "text": [
            "the quick brown Fox \n"
          ]
        }
      ]
    }
  ]
}