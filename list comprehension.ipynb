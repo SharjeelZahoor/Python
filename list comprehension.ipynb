{
  "nbformat": 4,
  "nbformat_minor": 0,
  "metadata": {
    "colab": {
      "provenance": [],
      "authorship_tag": "ABX9TyNwXXQBojV3CgEgLsmPVKGK",
      "include_colab_link": true
    },
    "kernelspec": {
      "name": "python3",
      "display_name": "Python 3"
    },
    "language_info": {
      "name": "python"
    }
  },
  "cells": [
    {
      "cell_type": "markdown",
      "metadata": {
        "id": "view-in-github",
        "colab_type": "text"
      },
      "source": [
        "<a href=\"https://colab.research.google.com/github/SharjeelZahoor/Python/blob/main/list%20comprehension.ipynb\" target=\"_parent\"><img src=\"https://colab.research.google.com/assets/colab-badge.svg\" alt=\"Open In Colab\"/></a>"
      ]
    },
    {
      "cell_type": "code",
      "execution_count": null,
      "metadata": {
        "colab": {
          "base_uri": "https://localhost:8080/"
        },
        "id": "sR_U6icdCCvF",
        "outputId": "f1fbac0a-1767-4cd3-c307-4be040862cd2"
      },
      "outputs": [
        {
          "output_type": "stream",
          "name": "stdout",
          "text": [
            "[0, 2, 4, 6, 8]\n"
          ]
        }
      ],
      "source": [
        "# extract even number from list of first 10 integers\n",
        "numbers=10\n",
        "my_list=[n for n in range(numbers) if n % 2 == 0]\n",
        "print(my_list)"
      ]
    },
    {
      "cell_type": "code",
      "source": [
        "# This comprehension flattens a 2D list (matrix) into a 1D list.\n",
        "colors=[\"red\", \"blue\"]\n",
        "sizes=[\"S\",\"M\",\"L\"]\n",
        "my_list=[(color,size) for color in colors for size in sizes]\n",
        "print(my_list)"
      ],
      "metadata": {
        "colab": {
          "base_uri": "https://localhost:8080/"
        },
        "id": "awmW4O6NEF0w",
        "outputId": "ff8927b0-3be7-4072-af5b-53c60166178d"
      },
      "execution_count": null,
      "outputs": [
        {
          "output_type": "stream",
          "name": "stdout",
          "text": [
            "[('red', 'S'), ('red', 'M'), ('red', 'L'), ('blue', 'S'), ('blue', 'M'), ('blue', 'L')]\n"
          ]
        }
      ]
    },
    {
      "cell_type": "code",
      "source": [
        "# This comprehension extract numbers from string list\n",
        "strings = [\"abc902gh3\", \"def45j8hh6\", \"ghi786vhj689\"]\n",
        "digits = [char for string in strings for char in string if char.isdigit()]\n",
        "print(digits)"
      ],
      "metadata": {
        "id": "Y8-vCRzuFCkc",
        "colab": {
          "base_uri": "https://localhost:8080/"
        },
        "outputId": "0e54b775-25ea-42b4-9ab0-a00ee2dda90b"
      },
      "execution_count": 11,
      "outputs": [
        {
          "output_type": "stream",
          "name": "stdout",
          "text": [
            "['9', '0', '2', '3', '4', '5', '8', '6', '7', '8', '6', '6', '8', '9']\n"
          ]
        }
      ]
    }
  ]
}