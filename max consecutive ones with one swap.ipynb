{
  "nbformat": 4,
  "nbformat_minor": 0,
  "metadata": {
    "colab": {
      "provenance": [],
      "authorship_tag": "ABX9TyPrVPh8v8XIqynkCD3OBPu/",
      "include_colab_link": true
    },
    "kernelspec": {
      "name": "python3",
      "display_name": "Python 3"
    },
    "language_info": {
      "name": "python"
    }
  },
  "cells": [
    {
      "cell_type": "markdown",
      "metadata": {
        "id": "view-in-github",
        "colab_type": "text"
      },
      "source": [
        "<a href=\"https://colab.research.google.com/github/SharjeelZahoor/Python/blob/main/max%20consecutive%20ones%20with%20one%20swap.ipynb\" target=\"_parent\"><img src=\"https://colab.research.google.com/assets/colab-badge.svg\" alt=\"Open In Colab\"/></a>"
      ]
    },
    {
      "cell_type": "code",
      "execution_count": 77,
      "metadata": {
        "colab": {
          "base_uri": "https://localhost:8080/"
        },
        "id": "rSxNnLfXkqAk",
        "outputId": "1cd2cd67-e27a-4b36-ac93-dd9ec169d352"
      },
      "outputs": [
        {
          "output_type": "stream",
          "name": "stdout",
          "text": [
            "5\n",
            "7\n"
          ]
        }
      ],
      "source": [
        "def max_consecutive_ones_with_swap(string):\n",
        "    n = len(string)\n",
        "    ones_segments = []\n",
        "    current_ones = 0\n",
        "    check = 0\n",
        "    for i in range(n-1):\n",
        "        if string[i] == '1':\n",
        "            current_ones += 1\n",
        "        else:\n",
        "           if string[i+1] != '0' and string[-1] == '1' and check == 0:\n",
        "            current_ones += 1\n",
        "            check = 1\n",
        "           else:\n",
        "            if string[i] == '0' and len(string) > i+2:\n",
        "              current_ones += 1\n",
        "            ones_segments.append(current_ones)\n",
        "            check = 0\n",
        "            current_ones = 0\n",
        "\n",
        "    return max(ones_segments)\n",
        "\n",
        "\n",
        "# Test cases\n",
        "string1 = \"1111001111\"\n",
        "string2 = \"111101101\"\n",
        "\n",
        "print(max_consecutive_ones_with_swap(string1))  # Output: 5\n",
        "print(max_consecutive_ones_with_swap(string2))  # Output: 7\n"
      ]
    }
  ]
}