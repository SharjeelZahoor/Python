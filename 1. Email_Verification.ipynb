{
  "nbformat": 4,
  "nbformat_minor": 0,
  "metadata": {
    "colab": {
      "provenance": [],
      "authorship_tag": "ABX9TyPEV128H1gM77SpQDNRjfnL",
      "include_colab_link": true
    },
    "kernelspec": {
      "name": "python3",
      "display_name": "Python 3"
    },
    "language_info": {
      "name": "python"
    }
  },
  "cells": [
    {
      "cell_type": "markdown",
      "metadata": {
        "id": "view-in-github",
        "colab_type": "text"
      },
      "source": [
        "<a href=\"https://colab.research.google.com/github/SharjeelZahoor/Python/blob/main/1.%20Email_Verification.ipynb\" target=\"_parent\"><img src=\"https://colab.research.google.com/assets/colab-badge.svg\" alt=\"Open In Colab\"/></a>"
      ]
    },
    {
      "cell_type": "markdown",
      "source": [
        "**Email Verification Program**\n",
        "\n"
      ],
      "metadata": {
        "id": "ybw2-KplRcoZ"
      }
    },
    {
      "cell_type": "code",
      "execution_count": 1,
      "metadata": {
        "colab": {
          "base_uri": "https://localhost:8080/"
        },
        "id": "QUo-Y-cDRCqF",
        "outputId": "af3fc4b0-76d0-4eaa-d63b-d63f3623dd23"
      },
      "outputs": [
        {
          "output_type": "stream",
          "name": "stdout",
          "text": [
            "Enter your Email : sherry.rajpoot@gmail.com\n",
            "\n",
            "\tRight Email\n",
            "\n"
          ]
        }
      ],
      "source": [
        "# Checking these conditions:-\n",
        "\n",
        "# Email must have more then 10 characters\n",
        "# First letter of Email must be lowercase alphabat.\n",
        "# Email must contain one @ character.\n",
        "# Email must have @ character at 3rd or 4th last index\n",
        "# Email do not have space\n",
        "# Email must have two special case character one @ and one other\n",
        "# Email do not have Uppercase character\n",
        "\n",
        "email = input(\"Enter your Email : \")\n",
        "count = 0\n",
        "if len(email) >= 10:\n",
        "    if email[0].islower():\n",
        "        if (\"@\" in email) and (email.count(\"@\") == 1):\n",
        "            if (email[-4] == \".\") ^ (email[-3] == \".\"):\n",
        "                for i in email:\n",
        "                    if i == \" \":\n",
        "                        print(\"\\n\\tTry Again! spaces are not Allowed in Email.\\n\")\n",
        "                        exit()\n",
        "                    elif i.isalpha() and i == i.upper():\n",
        "                        print(\"\\n\\tTry Again! Uppercase characters are not Allowed in Email.\\n\")\n",
        "                        break\n",
        "                    elif i.isdigit() or i.isalpha():\n",
        "                        continue\n",
        "                    elif (i == \"_\"):\n",
        "                      count+=1\n",
        "                      continue\n",
        "                    elif (i == \".\"):\n",
        "                      count += 1\n",
        "                    else:\n",
        "                        continue\n",
        "                if count <= 2:\n",
        "                  print(\"\\n\\tRight Email\\n\")\n",
        "                else:\n",
        "                  print(\"\\n\\tTry Again! ( . or _ ) are more then one in this email.\\n\")\n",
        "                exit()\n",
        "            else:\n",
        "                print(\"\\n\\tTry Again! choose the Right Extension with dot(.) character.\\n\")\n",
        "        else:\n",
        "            print(\"\\n\\tTry Again! Email must have one @ character.\\n\")\n",
        "    else:\n",
        "        print(\"\\n\\tTry Again! Email must starts with Alphabat.\\n\")\n",
        "else:\n",
        "    print(\"\\n\\tTry Again! Email must have more then 10 Characters.\\n\")\n",
        "\n",
        "\n"
      ]
    }
  ]
}