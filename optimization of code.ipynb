{
  "nbformat": 4,
  "nbformat_minor": 0,
  "metadata": {
    "colab": {
      "provenance": [],
      "authorship_tag": "ABX9TyO6qrThIm+RkxxdAJrhTXKk",
      "include_colab_link": true
    },
    "kernelspec": {
      "name": "python3",
      "display_name": "Python 3"
    },
    "language_info": {
      "name": "python"
    }
  },
  "cells": [
    {
      "cell_type": "markdown",
      "metadata": {
        "id": "view-in-github",
        "colab_type": "text"
      },
      "source": [
        "<a href=\"https://colab.research.google.com/github/SharjeelZahoor/Python/blob/main/optimization%20of%20code.ipynb\" target=\"_parent\"><img src=\"https://colab.research.google.com/assets/colab-badge.svg\" alt=\"Open In Colab\"/></a>"
      ]
    },
    {
      "cell_type": "markdown",
      "source": [
        "with complexity of n^2"
      ],
      "metadata": {
        "id": "HJzdC4CBsj2R"
      }
    },
    {
      "cell_type": "code",
      "execution_count": null,
      "metadata": {
        "colab": {
          "base_uri": "https://localhost:8080/"
        },
        "id": "aT_ATaExnyEH",
        "outputId": "52f6d1bb-547d-48ff-d3fe-4079d03723bf"
      },
      "outputs": [
        {
          "output_type": "stream",
          "name": "stdout",
          "text": [
            "2 4\n"
          ]
        }
      ],
      "source": [
        "arr = [10,23,30,50,40,61]\n",
        "target = 70\n",
        "for i in range(len(arr)):\n",
        "  for j in range(i+1,len(arr)):\n",
        "    if arr[i] + arr[j] == target:\n",
        "      print(i, j)"
      ]
    },
    {
      "cell_type": "markdown",
      "source": [
        "to complexity of n"
      ],
      "metadata": {
        "id": "UiiaZE6rsvHQ"
      }
    },
    {
      "cell_type": "code",
      "source": [
        "arr = [10,23,30,50,40,61]\n",
        "target = 70\n",
        "dictionary = {}\n",
        "for i,num in enumerate(arr):\n",
        "  numleft = target - num\n",
        "  if numleft in dictionary:\n",
        "    print(dictionary[numleft], i)\n",
        "  dictionary[num] = i"
      ],
      "metadata": {
        "colab": {
          "base_uri": "https://localhost:8080/"
        },
        "id": "f2Fg_WNwpyyV",
        "outputId": "a3b0d538-363a-431b-a465-aae7b517f677"
      },
      "execution_count": 1,
      "outputs": [
        {
          "output_type": "stream",
          "name": "stdout",
          "text": [
            "2 4\n"
          ]
        }
      ]
    }
  ]
}