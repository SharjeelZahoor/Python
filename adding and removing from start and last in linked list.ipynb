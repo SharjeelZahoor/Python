{
  "nbformat": 4,
  "nbformat_minor": 0,
  "metadata": {
    "colab": {
      "provenance": [],
      "authorship_tag": "ABX9TyMLktkKkRIv28T0YMz5fBAL",
      "include_colab_link": true
    },
    "kernelspec": {
      "name": "python3",
      "display_name": "Python 3"
    },
    "language_info": {
      "name": "python"
    }
  },
  "cells": [
    {
      "cell_type": "markdown",
      "metadata": {
        "id": "view-in-github",
        "colab_type": "text"
      },
      "source": [
        "<a href=\"https://colab.research.google.com/github/SharjeelZahoor/Python/blob/main/adding%20and%20removing%20from%20start%20and%20last%20in%20linked%20list.ipynb\" target=\"_parent\"><img src=\"https://colab.research.google.com/assets/colab-badge.svg\" alt=\"Open In Colab\"/></a>"
      ]
    },
    {
      "cell_type": "markdown",
      "source": [
        "linked list is Dynamicaly saved in memory\n"
      ],
      "metadata": {
        "id": "3uhHI1gMQn4G"
      }
    },
    {
      "cell_type": "markdown",
      "source": [
        "Adding data in linkedlist and print data."
      ],
      "metadata": {
        "id": "zz0AwilKnWRM"
      }
    },
    {
      "cell_type": "code",
      "source": [
        "class Node:\n",
        "  def __init__(self,data):\n",
        "    self.data = data\n",
        "    self.next = None\n",
        "\n",
        "class LinkedList:\n",
        "\n",
        "  def __init__(self):\n",
        "    self.head = None\n",
        "\n",
        "  def insertAtBeginning(self, new_data):\n",
        "    new_node = Node(new_data)\n",
        "    new_node.next = self.head\n",
        "    self.head = new_node\n",
        "\n",
        "  def insertAtLast(self,new_data):\n",
        "    new_node = Node(new_data)\n",
        "    if self.head is None:\n",
        "      self.head = new_node\n",
        "      return\n",
        "    current = self.head\n",
        "    while current.next:\n",
        "      current = current.next\n",
        "    current.next = new_node\n",
        "\n",
        "\n",
        "  def deleteNodeStart(self):\n",
        "    if self.head is None:\n",
        "      print(\"list is already empty\")\n",
        "    self.head = self.head.next\n",
        "\n",
        "  def deleteNodeLast(self):\n",
        "    if self.head is None:\n",
        "      return \"empty list\"\n",
        "    if self.head.next is None:\n",
        "      self.head = None\n",
        "      return\n",
        "    current = self.head\n",
        "    while current.next.next:\n",
        "      current = current.next\n",
        "    current.next = None\n",
        "\n",
        "  def printList(self):\n",
        "    current = self.head\n",
        "    while current:\n",
        "      print(current.data, end = \" \")\n",
        "      current = current.next\n",
        "    print()\n",
        "\n",
        "\n",
        "\n",
        "\n",
        "if __name__ := \"__main__\":\n",
        "\n",
        "  list1 = LinkedList()\n",
        "  list1.insertAtBeginning(\"Fox\")\n",
        "  list1.insertAtBeginning(\"Brown\")\n",
        "  list1.insertAtLast(\"run\")\n",
        "  list1.insertAtLast(\"over\")\n",
        "  list1.insertAtLast(\"over2\")\n",
        "  #printing list\n",
        "  list1.deleteNodeStart()\n",
        "  list1.deleteNodeLast()\n",
        "  list1.printList()\n",
        "\n",
        "\n",
        "\n",
        "\n",
        "\n",
        ""
      ],
      "metadata": {
        "id": "GHgulx8yQskP",
        "colab": {
          "base_uri": "https://localhost:8080/"
        },
        "outputId": "56598fc4-69d8-4d42-dfec-377b92e1c040"
      },
      "execution_count": 35,
      "outputs": [
        {
          "output_type": "stream",
          "name": "stdout",
          "text": [
            "Fox run over \n"
          ]
        }
      ]
    }
  ]
}