{
  "cells": [
    {
      "cell_type": "markdown",
      "metadata": {
        "id": "view-in-github",
        "colab_type": "text"
      },
      "source": [
        "<a href=\"https://colab.research.google.com/github/SharjeelZahoor/Python/blob/main/prime%20numbers%20before%20n.ipynb\" target=\"_parent\"><img src=\"https://colab.research.google.com/assets/colab-badge.svg\" alt=\"Open In Colab\"/></a>"
      ]
    },
    {
      "cell_type": "markdown",
      "source": [
        "**Total Prime numbers before number n**\n"
      ],
      "metadata": {
        "id": "ArvDfUitSp2a"
      }
    },
    {
      "cell_type": "code",
      "execution_count": 8,
      "metadata": {
        "colab": {
          "base_uri": "https://localhost:8080/"
        },
        "id": "v40rxncIBGs-",
        "outputId": "6059890e-1685-4d44-e054-0180db92c53c"
      },
      "outputs": [
        {
          "output_type": "stream",
          "name": "stdout",
          "text": [
            "Total prime numbers before this number are :  9\n"
          ]
        }
      ],
      "source": [
        "n = 21\n",
        "count = 2\n",
        "flag = 0\n",
        "for i in range(2, n):\n",
        "    for j in range(2, i):\n",
        "        if i % j != 0:\n",
        "            flag = 1\n",
        "        else:\n",
        "            flag = 0\n",
        "            break\n",
        "    if flag == 1:\n",
        "        count+=1\n",
        "print(\"Total prime numbers before this number are : \", count)"
      ]
    }
  ],
  "metadata": {
    "colab": {
      "provenance": [],
      "authorship_tag": "ABX9TyOJaRTKqP60lDxpsKLhzRqd",
      "include_colab_link": true
    },
    "kernelspec": {
      "display_name": "Python 3",
      "name": "python3"
    },
    "language_info": {
      "name": "python"
    }
  },
  "nbformat": 4,
  "nbformat_minor": 0
}